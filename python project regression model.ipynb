{
 "cells": [
  {
   "cell_type": "code",
   "execution_count": 13,
   "id": "bdd490c7",
   "metadata": {},
   "outputs": [
    {
     "name": "stdout",
     "output_type": "stream",
     "text": [
      "Linear Regression:\n",
      "R-squared (Training): 0.751505643411174\n",
      "R-squared (Testing): 0.7447273869684077\n",
      "\n",
      "Random Forest Regressor:\n",
      "R-squared (Training): 0.9772612152330278\n",
      "R-squared (Testing): 0.8379198591254433\n",
      "\n",
      "Decision Tree Regressor:\n",
      "R-squared (Training): 1.0\n",
      "R-squared (Testing): 0.7165732320930072\n"
     ]
    }
   ],
   "source": [
    "import numpy as np\n",
    "import pandas as pd\n",
    "import matplotlib.pyplot as plt\n",
    "import seaborn as sns\n",
    "from sklearn.model_selection import train_test_split\n",
    "from sklearn.linear_model import LinearRegression\n",
    "from sklearn.ensemble import RandomForestRegressor\n",
    "from sklearn.tree import DecisionTreeRegressor\n",
    "from sklearn import metrics\n",
    "\n",
    "file_path = r'C:\\Users\\Raj Patel\\OneDrive\\Desktop\\insurance.csv'\n",
    "insurance_dataset = pd.read_csv(file_path)\n",
    "\n",
    "insurance_dataset.replace({'sex': {'male': 0, 'female': 1}}, inplace=True)\n",
    "insurance_dataset.replace({'smoker': {'yes': 0, 'no': 1}}, inplace=True)\n",
    "insurance_dataset.replace({'region': {'southeast': 0, 'southwest': 1, 'northeast': 2, 'northwest': 3}}, inplace=True)\n",
    "\n",
    "X = insurance_dataset.drop(columns='charges', axis=1)\n",
    "Y = insurance_dataset['charges']\n",
    "\n",
    "X_train, X_test, Y_train, Y_test = train_test_split(X, Y, test_size=0.2, random_state=2)\n",
    "\n",
    "# Linear Regression\n",
    "linear_regressor = LinearRegression()\n",
    "linear_regressor.fit(X_train, Y_train)\n",
    "\n",
    "training_data_prediction_linear = linear_regressor.predict(X_train)\n",
    "r2_train_linear = metrics.r2_score(Y_train, training_data_prediction_linear)\n",
    "\n",
    "test_data_prediction_linear = linear_regressor.predict(X_test)\n",
    "r2_test_linear = metrics.r2_score(Y_test, test_data_prediction_linear)\n",
    "\n",
    "print(\"Linear Regression:\")\n",
    "print(\"R-squared (Training):\", r2_train_linear)\n",
    "print(\"R-squared (Testing):\", r2_test_linear)\n",
    "\n",
    "# Random Forest Regressor\n",
    "random_forest_regressor = RandomForestRegressor(n_estimators=100, random_state=42)\n",
    "random_forest_regressor.fit(X_train, Y_train)\n",
    "\n",
    "training_data_prediction_rf = random_forest_regressor.predict(X_train)\n",
    "r2_train_rf = metrics.r2_score(Y_train, training_data_prediction_rf)\n",
    "\n",
    "test_data_prediction_rf = random_forest_regressor.predict(X_test)\n",
    "r2_test_rf = metrics.r2_score(Y_test, test_data_prediction_rf)\n",
    "\n",
    "print(\"\\nRandom Forest Regressor:\")\n",
    "print(\"R-squared (Training):\", r2_train_rf)\n",
    "print(\"R-squared (Testing):\", r2_test_rf)\n",
    "\n",
    "# Decision Tree Regressor\n",
    "decision_tree_regressor = DecisionTreeRegressor(random_state=42)\n",
    "decision_tree_regressor.fit(X_train, Y_train)\n",
    "\n",
    "training_data_prediction_dt = decision_tree_regressor.predict(X_train)\n",
    "r2_train_dt = metrics.r2_score(Y_train, training_data_prediction_dt)\n",
    "\n",
    "test_data_prediction_dt = decision_tree_regressor.predict(X_test)\n",
    "r2_test_dt = metrics.r2_score(Y_test, test_data_prediction_dt)\n",
    "\n",
    "print(\"\\nDecision Tree Regressor:\")\n",
    "print(\"R-squared (Training):\", r2_train_dt)\n",
    "print(\"R-squared (Testing):\", r2_test_dt)\n",
    "\n"
   ]
  },
  {
   "cell_type": "code",
   "execution_count": null,
   "id": "d5454016",
   "metadata": {},
   "outputs": [],
   "source": []
  },
  {
   "cell_type": "code",
   "execution_count": null,
   "id": "bb7bc290",
   "metadata": {},
   "outputs": [],
   "source": []
  },
  {
   "cell_type": "code",
   "execution_count": null,
   "id": "5dff60be",
   "metadata": {},
   "outputs": [],
   "source": []
  }
 ],
 "metadata": {
  "kernelspec": {
   "display_name": "Python 3 (ipykernel)",
   "language": "python",
   "name": "python3"
  },
  "language_info": {
   "codemirror_mode": {
    "name": "ipython",
    "version": 3
   },
   "file_extension": ".py",
   "mimetype": "text/x-python",
   "name": "python",
   "nbconvert_exporter": "python",
   "pygments_lexer": "ipython3",
   "version": "3.11.5"
  }
 },
 "nbformat": 4,
 "nbformat_minor": 5
}
